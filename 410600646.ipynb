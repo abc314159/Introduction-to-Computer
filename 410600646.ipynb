{
  "nbformat": 4,
  "nbformat_minor": 0,
  "metadata": {
    "colab": {
      "name": "410600646.ipynb",
      "provenance": [],
      "authorship_tag": "ABX9TyPawWvJ/zhK0/89ARXxdOkm",
      "include_colab_link": true
    },
    "kernelspec": {
      "name": "python3",
      "display_name": "Python 3"
    },
    "language_info": {
      "name": "python"
    }
  },
  "cells": [
    {
      "cell_type": "markdown",
      "metadata": {
        "id": "view-in-github",
        "colab_type": "text"
      },
      "source": [
        "<a href=\"https://colab.research.google.com/github/abc314159/Introduction-to-Computer/blob/main/410600646.ipynb\" target=\"_parent\"><img src=\"https://colab.research.google.com/assets/colab-badge.svg\" alt=\"Open In Colab\"/></a>"
      ]
    },
    {
      "cell_type": "code",
      "execution_count": 1,
      "metadata": {
        "colab": {
          "base_uri": "https://localhost:8080/"
        },
        "id": "ZgU6WZkRuu_M",
        "outputId": "c9eea0f4-474e-4857-a1d2-d0fcf017eac4"
      },
      "outputs": [
        {
          "output_type": "execute_result",
          "data": {
            "text/plain": [
              "[1, 2, 5, 6, 7]"
            ]
          },
          "metadata": {},
          "execution_count": 1
        }
      ],
      "source": [
        "a={2,6,1,7,5}\n",
        "#len(a)\n",
        "#max(a)\n",
        "#min(a)\n",
        "#sorted(a)\n",
        "\n",
        "#加入append\n",
        "#a.append(9)\n",
        "#a\n",
        "\n",
        "#找索引index\n",
        "#a.index(5)\n",
        "\n",
        "#特定位置加入\n",
        "#a.insert(2,10)\n",
        "#a\n",
        "\n",
        "#刪除remove\n",
        "#a.remove(7)\n",
        "#a\n",
        "\n",
        "#特定位置刪除\n",
        "#a.pop(1)\n",
        "#a\n",
        "\n",
        "#倒轉\n",
        "#a.reverse()\n",
        "#a\n",
        "\n",
        "for i in a:\n",
        "  print(i)\n",
        "print('end')  "
      ]
    },
    {
      "cell_type": "code",
      "source": [
        "b=[]\n",
        "for i in range(1,14,3):\n",
        "  b.append(i)\n",
        "  print(b)\n",
        "print(b)   "
      ],
      "metadata": {
        "colab": {
          "base_uri": "https://localhost:8080/"
        },
        "id": "5Ep5AVXw2D51",
        "outputId": "32978a73-5de1-46d3-81f9-34f244000e60"
      },
      "execution_count": 18,
      "outputs": [
        {
          "output_type": "stream",
          "name": "stdout",
          "text": [
            "[1]\n",
            "[1, 4]\n",
            "[1, 4, 7]\n",
            "[1, 4, 7, 10]\n",
            "[1, 4, 7, 10, 13]\n",
            "[1, 4, 7, 10, 13]\n"
          ]
        }
      ]
    },
    {
      "cell_type": "code",
      "source": [
        "c=['a','b','c','d','e']\n",
        "print(len(c))\n",
        "for i in range(3):\n",
        "  print(c[i])"
      ],
      "metadata": {
        "colab": {
          "base_uri": "https://localhost:8080/"
        },
        "id": "7iFfVFIG3Fid",
        "outputId": "93e61364-3e45-40d2-f923-ca4f03168a5f"
      },
      "execution_count": 20,
      "outputs": [
        {
          "output_type": "stream",
          "name": "stdout",
          "text": [
            "5\n",
            "a\n",
            "b\n",
            "c\n"
          ]
        }
      ]
    }
  ]
}