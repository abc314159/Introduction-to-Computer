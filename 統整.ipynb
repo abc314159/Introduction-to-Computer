{
  "nbformat": 4,
  "nbformat_minor": 0,
  "metadata": {
    "colab": {
      "name": "統整.ipynb",
      "provenance": [],
      "authorship_tag": "ABX9TyOTmrECRmJ2XNFUgeC22ND9",
      "include_colab_link": true
    },
    "kernelspec": {
      "name": "python3",
      "display_name": "Python 3"
    },
    "language_info": {
      "name": "python"
    }
  },
  "cells": [
    {
      "cell_type": "markdown",
      "metadata": {
        "id": "view-in-github",
        "colab_type": "text"
      },
      "source": [
        "<a href=\"https://colab.research.google.com/github/abc314159/Introduction-to-Computer/blob/main/%E7%B5%B1%E6%95%B4.ipynb\" target=\"_parent\"><img src=\"https://colab.research.google.com/assets/colab-badge.svg\" alt=\"Open In Colab\"/></a>"
      ]
    },
    {
      "cell_type": "code",
      "execution_count": 34,
      "metadata": {
        "colab": {
          "base_uri": "https://localhost:8080/"
        },
        "id": "wyhrClDVit0k",
        "outputId": "cf2d4845-b41a-4ded-f701-abccb3e660b3"
      },
      "outputs": [
        {
          "output_type": "stream",
          "name": "stdout",
          "text": [
            "午安_同學好！_打起精神來！！\n",
            "下午好,平安順心,健康如意^^"
          ]
        }
      ],
      "source": [
        "print('午安','同學好！','打起精神來！！',sep='_')\n",
        "print('下午好','平安順心','健康如意',sep=',',end='^^')"
      ]
    },
    {
      "cell_type": "code",
      "source": [
        "test5=int(input('請輸入國文成績'))\n",
        "test6=int(input('請輸入數學成績'))\n",
        "test7=int(input('請輸入英文成績'))\n",
        "print('你的成績總分為:',test5+test6+test7,sep='\\n')"
      ],
      "metadata": {
        "colab": {
          "base_uri": "https://localhost:8080/"
        },
        "id": "hD6GGcm0l_IM",
        "outputId": "18f1723c-f7e8-4ae6-9496-99684dd0a727"
      },
      "execution_count": 2,
      "outputs": [
        {
          "output_type": "stream",
          "name": "stdout",
          "text": [
            "請輸入國文成績70\n",
            "請輸入數學成績70\n",
            "請輸入英文成績70\n",
            "你的成績總分為:\n",
            "210\n"
          ]
        }
      ]
    },
    {
      "cell_type": "code",
      "source": [
        "身高=int(input('請輸入您的身高(cm):'))\n",
        "體重=int(input('請輸入您的體重(kg):'))\n",
        "BMI=體重/((身高/100)**2)\n",
        "print('身高%d,體重%d,BMI為%0.2f'%(身高,體重,BMI))"
      ],
      "metadata": {
        "colab": {
          "base_uri": "https://localhost:8080/"
        },
        "id": "zMve-7YTmiyc",
        "outputId": "a8fd8bb3-64da-49fe-b78c-13ad1e1d20ef"
      },
      "execution_count": 3,
      "outputs": [
        {
          "output_type": "stream",
          "name": "stdout",
          "text": [
            "請輸入您的身高(cm):180\n",
            "請輸入您的體重(kg):80\n",
            "身高180,體重80,BMI為24.69\n"
          ]
        }
      ]
    },
    {
      "cell_type": "code",
      "source": [
        "上底=int(input('請輸入梯形上底長度:'))\n",
        "下底=int(input('請輸入梯形下底長度:'))\n",
        "高=int(input('請輸入梯形的高度:'))\n",
        "面積=(上底+下底)*高/2\n",
        "print('上底長度為:',上底,'下底長度為:',下底,'高度為:',高,'梯形面積為:',面積,)"
      ],
      "metadata": {
        "colab": {
          "base_uri": "https://localhost:8080/"
        },
        "id": "Hmed0EktmwuB",
        "outputId": "7f94429e-7560-4bcf-dc8e-0978124a814f"
      },
      "execution_count": 7,
      "outputs": [
        {
          "output_type": "stream",
          "name": "stdout",
          "text": [
            "請輸入梯形上底長度:10\n",
            "請輸入梯形下底長度:20\n",
            "請輸入梯形的高度:10\n",
            "上底長度為: 10 下底長度為: 20 高度為: 10 梯形面積為: 150.0\n"
          ]
        }
      ]
    },
    {
      "cell_type": "code",
      "source": [
        "print('上底長度為:%d,下底長度為:%d,高度為:%d,梯形面積為:%0.2f'%(上底,下底,高,面積))"
      ],
      "metadata": {
        "colab": {
          "base_uri": "https://localhost:8080/"
        },
        "id": "J-0h5vzlm0Pg",
        "outputId": "e66cb59e-5539-4548-9e98-3288d97484af"
      },
      "execution_count": 5,
      "outputs": [
        {
          "output_type": "stream",
          "name": "stdout",
          "text": [
            "上底長度為:10,下底長度為:20,高度為:10,梯形面積為:150.00\n"
          ]
        }
      ]
    },
    {
      "cell_type": "code",
      "source": [
        "業績=int(input(\"請輸入你的業績:\"))\n",
        "if    業績>4999:\n",
        "     年終獎金=業績*0.1\n",
        "     print(\"年終獎金為:\",(年終獎金))\n",
        "else:   \n",
        "     年終獎金=業績*0.05\n",
        "     print(\"年終獎金為:\",(年終獎金)) "
      ],
      "metadata": {
        "colab": {
          "base_uri": "https://localhost:8080/"
        },
        "id": "OxR_xivqnl5J",
        "outputId": "9b031e4e-33de-4b14-fa03-5d665f9d9c72"
      },
      "execution_count": 8,
      "outputs": [
        {
          "output_type": "stream",
          "name": "stdout",
          "text": [
            "請輸入你的業績:5000\n",
            "年終獎金為: 500.0\n"
          ]
        }
      ]
    },
    {
      "cell_type": "code",
      "source": [
        "國文=int(input(\"請輸入國文成績:\"))\n",
        "數學=int(input(\"請輸入數學成績:\"))\n",
        "英文=int(input(\"請輸入英文成績:\"))\n",
        "出席=int(input(\"請輸入出席次數:\"))\n",
        "總分=國文*0.35+數學*0.35+英文*0.3\n",
        "if    總分>=60 and 出席>=10:\n",
        "     print('學期成績為:',總分,'恭喜及格')\n",
        "else:\n",
        "     print('學期成績為:',總分,'重修')"
      ],
      "metadata": {
        "colab": {
          "base_uri": "https://localhost:8080/"
        },
        "id": "odQjVcY_no2Q",
        "outputId": "22e60152-1a52-44c0-e019-aab224ac2f12"
      },
      "execution_count": 11,
      "outputs": [
        {
          "output_type": "stream",
          "name": "stdout",
          "text": [
            "請輸入國文成績:90\n",
            "請輸入數學成績:80\n",
            "請輸入英文成績:70\n",
            "請輸入出席次數:10\n",
            "學期成績為: 80.5 恭喜及格\n"
          ]
        }
      ]
    },
    {
      "cell_type": "code",
      "source": [
        "i=10\n",
        "i+=5\n",
        "i"
      ],
      "metadata": {
        "colab": {
          "base_uri": "https://localhost:8080/"
        },
        "id": "EwYOr-UfpE_D",
        "outputId": "de1c0516-1115-4072-86f8-3f756c7ea900"
      },
      "execution_count": 12,
      "outputs": [
        {
          "output_type": "execute_result",
          "data": {
            "text/plain": [
              "15"
            ]
          },
          "metadata": {},
          "execution_count": 12
        }
      ]
    },
    {
      "cell_type": "code",
      "source": [
        "deposit=int(input('請輸入本金存款金額:'))\n",
        "years=1.02**6\n",
        "deposit*=years\n",
        "print('六年後的存款為:'+str(deposit))"
      ],
      "metadata": {
        "colab": {
          "base_uri": "https://localhost:8080/"
        },
        "id": "oCztcmR0pKIl",
        "outputId": "631464b1-c050-4376-aa14-c1e7d4c5080f"
      },
      "execution_count": 39,
      "outputs": [
        {
          "output_type": "stream",
          "name": "stdout",
          "text": [
            "請輸入本金存款金額:10000\n",
            "六年後的存款為:11261.62419264\n"
          ]
        }
      ]
    },
    {
      "cell_type": "code",
      "source": [
        "Number=int(input('請輸入正整數'))\n",
        "if(Number%2==0):\n",
        "    print(str(Number)+'為偶數!')\n",
        "else:\n",
        "    print(str(Number)+'為奇數!')"
      ],
      "metadata": {
        "colab": {
          "base_uri": "https://localhost:8080/"
        },
        "id": "nU9ffuybpj2D",
        "outputId": "7234c947-5e9d-4e90-bced-3163fe7d1e3d"
      },
      "execution_count": 14,
      "outputs": [
        {
          "output_type": "stream",
          "name": "stdout",
          "text": [
            "請輸入正整數9\n",
            "9為奇數!\n"
          ]
        }
      ]
    },
    {
      "cell_type": "code",
      "source": [
        "體溫=float(input('請輸入你的體溫:'))\n",
        "if    體溫>=37.5:\n",
        "     print('體溫過高!')\n",
        "elif   體溫>=37 and 體溫<=37.4:\n",
        "     print('體溫略高!')\n",
        "elif   體溫>=34 and 體溫<=36.9:\n",
        "     print('體溫正常!')     \n",
        "else:\n",
        "     print('體溫異常，請重新測量!') "
      ],
      "metadata": {
        "colab": {
          "base_uri": "https://localhost:8080/"
        },
        "id": "SkKUXouCp6Gl",
        "outputId": "16dfcf81-5b6a-46a2-b3ff-bf9cbf2a1697"
      },
      "execution_count": 15,
      "outputs": [
        {
          "output_type": "stream",
          "name": "stdout",
          "text": [
            "請輸入你的體溫:36\n",
            "體溫正常!\n"
          ]
        }
      ]
    },
    {
      "cell_type": "code",
      "source": [
        "month=int(input('請輸入月份:'))\n",
        "if  3<=month<=5:\n",
        "    print(month,'月是春天!')\n",
        "elif 6<=month<=8:\n",
        "    print(month,'月是夏天!')\n",
        "elif 9<=month<=11:\n",
        "    print(month,'月是秋天!')\n",
        "elif 1<=month<=2or month==12:\n",
        "    print(month,'月是冬天!')\n",
        "else:\n",
        "    print('月份不在範圍內!')  "
      ],
      "metadata": {
        "colab": {
          "base_uri": "https://localhost:8080/"
        },
        "id": "XvxUTNONqMSy",
        "outputId": "a57e92a2-ddc4-4c9a-ad3d-46d94a72f168"
      },
      "execution_count": 16,
      "outputs": [
        {
          "output_type": "stream",
          "name": "stdout",
          "text": [
            "請輸入月份:3\n",
            "3 月是春天!\n"
          ]
        }
      ]
    },
    {
      "cell_type": "code",
      "source": [
        "a=range(3,8)\n",
        "print(list(a))"
      ],
      "metadata": {
        "colab": {
          "base_uri": "https://localhost:8080/"
        },
        "id": "TllgvlApqP6F",
        "outputId": "f5a3f730-a690-48b8-89fe-7aa65669f091"
      },
      "execution_count": 17,
      "outputs": [
        {
          "output_type": "stream",
          "name": "stdout",
          "text": [
            "[3, 4, 5, 6, 7]\n"
          ]
        }
      ]
    },
    {
      "cell_type": "code",
      "source": [
        "f=range(0,9,1)\n",
        "g=range(1,10,1)\n",
        "h=range(1,10,2)\n",
        "i=range(10,1,-2)\n",
        "print(list(f))\n",
        "print(list(g))\n",
        "print(list(h))\n",
        "print(list(i))"
      ],
      "metadata": {
        "colab": {
          "base_uri": "https://localhost:8080/"
        },
        "id": "dsIQDnGBq0gm",
        "outputId": "7e0b9152-5a66-4775-ff61-16a10bf3b2cb"
      },
      "execution_count": 18,
      "outputs": [
        {
          "output_type": "stream",
          "name": "stdout",
          "text": [
            "[0, 1, 2, 3, 4, 5, 6, 7, 8]\n",
            "[1, 2, 3, 4, 5, 6, 7, 8, 9]\n",
            "[1, 3, 5, 7, 9]\n",
            "[10, 8, 6, 4, 2]\n"
          ]
        }
      ]
    },
    {
      "cell_type": "code",
      "source": [
        "sum=0\n",
        "for n in range(10,1,-2):\n",
        "   sum=sum+n\n",
        "   print(sum)"
      ],
      "metadata": {
        "colab": {
          "base_uri": "https://localhost:8080/"
        },
        "id": "keHduw1ErmjF",
        "outputId": "08761c2b-02b5-4f37-feb2-90cdc624ce05"
      },
      "execution_count": 19,
      "outputs": [
        {
          "output_type": "stream",
          "name": "stdout",
          "text": [
            "10\n",
            "18\n",
            "24\n",
            "28\n",
            "30\n"
          ]
        }
      ]
    },
    {
      "cell_type": "code",
      "source": [
        "sum=0\n",
        "n=int(input('請輸入一個正整數:'))\n",
        "for n in range(1,n+1):\n",
        "  sum=sum+n\n",
        "print('1到'+str(n)+'的整數合為'+str(sum))"
      ],
      "metadata": {
        "colab": {
          "base_uri": "https://localhost:8080/"
        },
        "id": "ov2Klcq7sX8y",
        "outputId": "6e9af25f-a389-4ef3-92bd-0f2cb68e7187"
      },
      "execution_count": 40,
      "outputs": [
        {
          "output_type": "stream",
          "name": "stdout",
          "text": [
            "請輸入一個正整數:10\n",
            "1到10的整數合為55\n"
          ]
        }
      ]
    },
    {
      "cell_type": "code",
      "source": [
        "sum=0\n",
        "n=int(input('請輸入一個正整數:'))\n",
        "for n in range(1,n+1):\n",
        "  sum=sum+n\n",
        "  print('1到'+str(n)+'的整數合為'+str(sum))"
      ],
      "metadata": {
        "colab": {
          "base_uri": "https://localhost:8080/"
        },
        "id": "V0_R5QZ2saxT",
        "outputId": "b57312e3-6ea7-4d44-fd19-f5b97d096e37"
      },
      "execution_count": 41,
      "outputs": [
        {
          "output_type": "stream",
          "name": "stdout",
          "text": [
            "請輸入一個正整數:10\n",
            "1到1的整數合為1\n",
            "1到2的整數合為3\n",
            "1到3的整數合為6\n",
            "1到4的整數合為10\n",
            "1到5的整數合為15\n",
            "1到6的整數合為21\n",
            "1到7的整數合為28\n",
            "1到8的整數合為36\n",
            "1到9的整數合為45\n",
            "1到10的整數合為55\n"
          ]
        }
      ]
    },
    {
      "cell_type": "code",
      "source": [
        "for i in range(1,5):\n",
        "  if(i==4):\n",
        "    break\n",
        "  print(i,end=' ')  "
      ],
      "metadata": {
        "colab": {
          "base_uri": "https://localhost:8080/"
        },
        "id": "izhOknapslo_",
        "outputId": "76c8239b-281f-479c-e325-143fda0ad8bc"
      },
      "execution_count": 22,
      "outputs": [
        {
          "output_type": "stream",
          "name": "stdout",
          "text": [
            "1 2 3 "
          ]
        }
      ]
    },
    {
      "cell_type": "code",
      "source": [
        "count=0\n",
        "for string in '測試看看!':\n",
        "  count+=1\n",
        "  if string=='看':\n",
        "    break\n",
        "  print(string)\n",
        "print('迴圈結束')\n",
        "print('迴圈執行了%d次' %count)    "
      ],
      "metadata": {
        "colab": {
          "base_uri": "https://localhost:8080/"
        },
        "id": "E-APz0attqYz",
        "outputId": "33a0c572-c883-471f-9b2b-33c6b7781974"
      },
      "execution_count": 23,
      "outputs": [
        {
          "output_type": "stream",
          "name": "stdout",
          "text": [
            "測\n",
            "試\n",
            "迴圈結束\n",
            "迴圈執行了3次\n"
          ]
        }
      ]
    },
    {
      "cell_type": "code",
      "source": [
        "for a in range(1,10):\n",
        "  for b in range(1,10):\n",
        "    print(f'{b}*{a}={a*b}',end='\\t')\n",
        "  print()  "
      ],
      "metadata": {
        "colab": {
          "base_uri": "https://localhost:8080/"
        },
        "id": "gUNJ6-E3t5bH",
        "outputId": "416c3dd0-9ae1-49a6-ec4c-524cd635a311"
      },
      "execution_count": 24,
      "outputs": [
        {
          "output_type": "stream",
          "name": "stdout",
          "text": [
            "1*1=1\t2*1=2\t3*1=3\t4*1=4\t5*1=5\t6*1=6\t7*1=7\t8*1=8\t9*1=9\t\n",
            "1*2=2\t2*2=4\t3*2=6\t4*2=8\t5*2=10\t6*2=12\t7*2=14\t8*2=16\t9*2=18\t\n",
            "1*3=3\t2*3=6\t3*3=9\t4*3=12\t5*3=15\t6*3=18\t7*3=21\t8*3=24\t9*3=27\t\n",
            "1*4=4\t2*4=8\t3*4=12\t4*4=16\t5*4=20\t6*4=24\t7*4=28\t8*4=32\t9*4=36\t\n",
            "1*5=5\t2*5=10\t3*5=15\t4*5=20\t5*5=25\t6*5=30\t7*5=35\t8*5=40\t9*5=45\t\n",
            "1*6=6\t2*6=12\t3*6=18\t4*6=24\t5*6=30\t6*6=36\t7*6=42\t8*6=48\t9*6=54\t\n",
            "1*7=7\t2*7=14\t3*7=21\t4*7=28\t5*7=35\t6*7=42\t7*7=49\t8*7=56\t9*7=63\t\n",
            "1*8=8\t2*8=16\t3*8=24\t4*8=32\t5*8=40\t6*8=48\t7*8=56\t8*8=64\t9*8=72\t\n",
            "1*9=9\t2*9=18\t3*9=27\t4*9=36\t5*9=45\t6*9=54\t7*9=63\t8*9=72\t9*9=81\t\n"
          ]
        }
      ]
    },
    {
      "cell_type": "code",
      "source": [
        "a=int(input('請輸入正整數:'))\n",
        "for a in range(1,a+1):\n",
        "  if(a%5==0):\n",
        "    continue\n",
        "  print(a,end=' ') "
      ],
      "metadata": {
        "colab": {
          "base_uri": "https://localhost:8080/"
        },
        "id": "ReG9GqzXuSBK",
        "outputId": "d86fc7ef-9ed6-4899-ea21-095a0412055c"
      },
      "execution_count": 25,
      "outputs": [
        {
          "output_type": "stream",
          "name": "stdout",
          "text": [
            "請輸入正整數:21\n",
            "1 2 3 4 6 7 8 9 11 12 13 14 16 17 18 19 21 "
          ]
        }
      ]
    },
    {
      "cell_type": "code",
      "source": [
        "a=int(input('請輸入a的值:'))\n",
        "b=int(input('請輸入b的值:'))\n",
        "maxno=a*b\n",
        "for i in range(1,maxno+1):\n",
        "  if(i%a==0 and i%b==0):\n",
        "    break\n",
        "print('%d和%d的最小公倍數=%d'%(a,b,i))"
      ],
      "metadata": {
        "colab": {
          "base_uri": "https://localhost:8080/"
        },
        "id": "yMjijgsevN5o",
        "outputId": "1ded5246-bc30-43ce-f565-8f5aaeb66bc6"
      },
      "execution_count": 26,
      "outputs": [
        {
          "output_type": "stream",
          "name": "stdout",
          "text": [
            "請輸入a的值:5\n",
            "請輸入b的值:6\n",
            "5和6的最小公倍數=30\n"
          ]
        }
      ]
    },
    {
      "cell_type": "code",
      "source": [
        "total=i=1\n",
        "n=int(input('請輸入正整數n的值:'))\n",
        "while i<=n:\n",
        "  total*=i\n",
        "  i+=1\n",
        "print('%d!=%d' %(n,total))  "
      ],
      "metadata": {
        "colab": {
          "base_uri": "https://localhost:8080/"
        },
        "id": "sVIG39hUv31U",
        "outputId": "ca20b395-f9b9-4773-f132-c336c47db1b2"
      },
      "execution_count": 27,
      "outputs": [
        {
          "output_type": "stream",
          "name": "stdout",
          "text": [
            "請輸入正整數n的值:6\n",
            "6!=720\n"
          ]
        }
      ]
    },
    {
      "cell_type": "code",
      "source": [
        "totalA=n=0\n",
        "totalB=m=0\n",
        "while(n<=50):  \n",
        "  if n%2==0:\n",
        "   totalA+=n\n",
        "  n+=1\n",
        "print('0~50的偶數和結果是',totalA)\n",
        "while(m<=50):  \n",
        "  if m%2==1:\n",
        "   totalB+=m\n",
        "  m+=1\n",
        "print('0~50的奇數和結果是',totalB)"
      ],
      "metadata": {
        "colab": {
          "base_uri": "https://localhost:8080/"
        },
        "id": "hGrQ9nAiwXRE",
        "outputId": "bd48af4d-b346-4a00-b638-0ec297ac9260"
      },
      "execution_count": 28,
      "outputs": [
        {
          "output_type": "stream",
          "name": "stdout",
          "text": [
            "0~50的偶數和結果是 650\n",
            "0~50的奇數和結果是 625\n"
          ]
        }
      ]
    },
    {
      "cell_type": "code",
      "source": [
        "sum=0\n",
        "for n in range(1,101):\n",
        "   if n%3==0 or n%7==0: \n",
        "      sum=sum+n\n",
        "print('數值1~100中，所有是3或7倍數的數之總和=',sum)"
      ],
      "metadata": {
        "colab": {
          "base_uri": "https://localhost:8080/"
        },
        "id": "pWCwtcTPwk_f",
        "outputId": "e351f03b-fab8-4709-a202-4ae6c21121d8"
      },
      "execution_count": 30,
      "outputs": [
        {
          "output_type": "stream",
          "name": "stdout",
          "text": [
            "數值1~100中，所有是3或7倍數的數之總和= 2208\n"
          ]
        }
      ]
    },
    {
      "cell_type": "code",
      "source": [
        "n=int(input('請輸入正整數:'))\n",
        "for i in range(1,n+1):\n",
        "  for j in range(i,n+1):\n",
        "    print('*',end='')\n",
        "  print()"
      ],
      "metadata": {
        "colab": {
          "base_uri": "https://localhost:8080/"
        },
        "id": "RpuMdntQxJnZ",
        "outputId": "a6f61a12-ae71-45e5-f86b-975971fbcce1"
      },
      "execution_count": 31,
      "outputs": [
        {
          "output_type": "stream",
          "name": "stdout",
          "text": [
            "請輸入正整數:7\n",
            "*******\n",
            "******\n",
            "*****\n",
            "****\n",
            "***\n",
            "**\n",
            "*\n"
          ]
        }
      ]
    },
    {
      "cell_type": "code",
      "source": [
        "p=1\n",
        "c=0\n",
        "n=int(input('請輸入正整數:'))\n",
        "print(n,'的因數有',end='')\n",
        "while (p<=n):\n",
        "  if (n%p==0):\n",
        "    print(p,end='')\n",
        "    c+=1\n",
        "  p+=1\n",
        "print()\n",
        "if (c==2):\n",
        "  print(n,'是質數')\n",
        "else:\n",
        "  print(n,'不是質數')   "
      ],
      "metadata": {
        "colab": {
          "base_uri": "https://localhost:8080/"
        },
        "id": "6KHWokx0xdnn",
        "outputId": "e635ae6b-2e49-44ee-b733-6024fb82ef29"
      },
      "execution_count": 33,
      "outputs": [
        {
          "output_type": "stream",
          "name": "stdout",
          "text": [
            "請輸入正整數:4\n",
            "4 的因數有124\n",
            "4 不是質數\n"
          ]
        }
      ]
    },
    {
      "cell_type": "code",
      "source": [
        "scores=['編號:1 姓名:Tom','編號:2 姓名:Mary','編號:3 姓名:Tony']\n",
        "for i in range(len(scores)):\n",
        "  print(scores[i])"
      ],
      "metadata": {
        "colab": {
          "base_uri": "https://localhost:8080/"
        },
        "id": "JFMaOONxyAi4",
        "outputId": "eb3fb2c0-032f-447f-ad80-a0cd3cf2d968"
      },
      "execution_count": 32,
      "outputs": [
        {
          "output_type": "stream",
          "name": "stdout",
          "text": [
            "編號:1 姓名:Tom\n",
            "編號:2 姓名:Mary\n",
            "編號:3 姓名:Tony\n"
          ]
        }
      ]
    }
  ]
}