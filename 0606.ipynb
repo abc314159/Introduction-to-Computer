{
  "nbformat": 4,
  "nbformat_minor": 0,
  "metadata": {
    "colab": {
      "name": "0606.ipynb",
      "provenance": [],
      "authorship_tag": "ABX9TyM+cbC6oQ/DF+uTxrNwWp/Y",
      "include_colab_link": true
    },
    "kernelspec": {
      "name": "python3",
      "display_name": "Python 3"
    },
    "language_info": {
      "name": "python"
    }
  },
  "cells": [
    {
      "cell_type": "markdown",
      "metadata": {
        "id": "view-in-github",
        "colab_type": "text"
      },
      "source": [
        "<a href=\"https://colab.research.google.com/github/abc314159/Introduction-to-Computer/blob/main/0606.ipynb\" target=\"_parent\"><img src=\"https://colab.research.google.com/assets/colab-badge.svg\" alt=\"Open In Colab\"/></a>"
      ]
    },
    {
      "cell_type": "code",
      "execution_count": 1,
      "metadata": {
        "colab": {
          "base_uri": "https://localhost:8080/"
        },
        "id": "lv51yPo4dWPg",
        "outputId": "666b35f9-43a1-4030-d79f-ea03611e7a51"
      },
      "outputs": [
        {
          "output_type": "stream",
          "name": "stdout",
          "text": [
            "請輸入正整數:7\n",
            "*******\n",
            "******\n",
            "*****\n",
            "****\n",
            "***\n",
            "**\n",
            "*\n"
          ]
        }
      ],
      "source": [
        "n=int(input('請輸入正整數:'))\n",
        "for i in range(1,n+1):\n",
        "  for j in range(i,n+1):\n",
        "    print('*',end='')\n",
        "  print()\n"
      ]
    },
    {
      "cell_type": "code",
      "source": [
        "sum=0\n",
        "for i in range(1,101):\n",
        "  if (i%3==0 or i%7==0):\n",
        "    sum+=i\n",
        "print('數值1~100中所有是3或7的倍數總和=',sum)\n"
      ],
      "metadata": {
        "colab": {
          "base_uri": "https://localhost:8080/"
        },
        "id": "wpu8AtGJdsqX",
        "outputId": "abbf9615-71f3-4f42-a5ac-491545f2ad8a"
      },
      "execution_count": 2,
      "outputs": [
        {
          "output_type": "stream",
          "name": "stdout",
          "text": [
            "數值1~100中所有是3或7的倍數總和= 2208\n"
          ]
        }
      ]
    },
    {
      "cell_type": "code",
      "source": [
        "p=1\n",
        "c=0\n",
        "n=int(input('請輸入正整數:'))\n",
        "print(n,'的因數有',end='')\n",
        "while (p<=n):\n",
        "  if (n%p==0):\n",
        "    print(p,end='')\n",
        "    c+=1\n",
        "  p+=1\n",
        "print()\n",
        "if (c==2):\n",
        "  print(n,'是質數')\n",
        "else:\n",
        "  print(n,'不是質數')   "
      ],
      "metadata": {
        "colab": {
          "base_uri": "https://localhost:8080/"
        },
        "id": "1OiJGpWTdxCV",
        "outputId": "e25cb505-8c04-4e19-8f08-81cbee7b6b14"
      },
      "execution_count": 3,
      "outputs": [
        {
          "output_type": "stream",
          "name": "stdout",
          "text": [
            "請輸入正整數:4\n",
            "4 的因數有124\n",
            "4 不是質數\n"
          ]
        }
      ]
    },
    {
      "cell_type": "code",
      "source": [
        "s = [85,79,93]\n",
        "print('國文成績: %d分' % s[0])\n",
        "print('數學成績: %d分' % s[1])\n",
        "print('英文成績: %d分' % s[2])\n"
      ],
      "metadata": {
        "colab": {
          "base_uri": "https://localhost:8080/"
        },
        "id": "HF1cpj-Kd31R",
        "outputId": "9e1896b7-766b-49b6-f745-b2ae8f06c09e"
      },
      "execution_count": 4,
      "outputs": [
        {
          "output_type": "stream",
          "name": "stdout",
          "text": [
            "國文成績: 85分\n",
            "數學成績: 79分\n",
            "英文成績: 93分\n"
          ]
        }
      ]
    },
    {
      "cell_type": "code",
      "source": [
        "items=[123,'apple',True]\n",
        "for item in items:\n",
        "  print (item)\n"
      ],
      "metadata": {
        "colab": {
          "base_uri": "https://localhost:8080/"
        },
        "id": "0HZ9HIi9d5eI",
        "outputId": "531c7d5e-8de9-490c-ed0d-b817264b00cb"
      },
      "execution_count": 5,
      "outputs": [
        {
          "output_type": "stream",
          "name": "stdout",
          "text": [
            "123\n",
            "apple\n",
            "True\n"
          ]
        }
      ]
    },
    {
      "cell_type": "code",
      "source": [
        "scores = [85,79,93]\n",
        "for i in range(len(scores)):\n",
        "  print(scores[i])"
      ],
      "metadata": {
        "colab": {
          "base_uri": "https://localhost:8080/"
        },
        "id": "jflQJym6d-Wb",
        "outputId": "2fe0f39c-df47-4cdb-a0a0-e691c506d709"
      },
      "execution_count": 6,
      "outputs": [
        {
          "output_type": "stream",
          "name": "stdout",
          "text": [
            "85\n",
            "79\n",
            "93\n"
          ]
        }
      ]
    },
    {
      "cell_type": "code",
      "source": [
        "scores=['國文成績:85分','數學成績:79分','英文成績:93分']\n",
        "for i in range(len(scores)):\n",
        "  print(scores[i])"
      ],
      "metadata": {
        "colab": {
          "base_uri": "https://localhost:8080/"
        },
        "id": "ZKgXplJKePuX",
        "outputId": "0dabec47-68d2-44e5-fa3f-62cbceee83fb"
      },
      "execution_count": 7,
      "outputs": [
        {
          "output_type": "stream",
          "name": "stdout",
          "text": [
            "國文成績:85分\n",
            "數學成績:79分\n",
            "英文成績:93分\n"
          ]
        }
      ]
    },
    {
      "cell_type": "code",
      "source": [
        "scores=['編號:1 姓名:Tom','編號:2 姓名:Mary','編號:3 姓名:Tony']\n",
        "for i in range(len(scores)):\n",
        "  print(scores[i])"
      ],
      "metadata": {
        "colab": {
          "base_uri": "https://localhost:8080/"
        },
        "id": "r3mNcpJxeuwm",
        "outputId": "b305f16f-4a51-4b89-9398-a44d03c82625"
      },
      "execution_count": 8,
      "outputs": [
        {
          "output_type": "stream",
          "name": "stdout",
          "text": [
            "編號:1 姓名:Tom\n",
            "編號:2 姓名:Mary\n",
            "編號:3 姓名:Tony\n"
          ]
        }
      ]
    }
  ]
}