{
  "nbformat": 4,
  "nbformat_minor": 0,
  "metadata": {
    "colab": {
      "name": "0516.ipynb",
      "provenance": [],
      "authorship_tag": "ABX9TyNn3OEDn9kaK8VAJsnFh5Ad",
      "include_colab_link": true
    },
    "kernelspec": {
      "name": "python3",
      "display_name": "Python 3"
    },
    "language_info": {
      "name": "python"
    }
  },
  "cells": [
    {
      "cell_type": "markdown",
      "metadata": {
        "id": "view-in-github",
        "colab_type": "text"
      },
      "source": [
        "<a href=\"https://colab.research.google.com/github/abc314159/Introduction-to-Computer/blob/main/0516.ipynb\" target=\"_parent\"><img src=\"https://colab.research.google.com/assets/colab-badge.svg\" alt=\"Open In Colab\"/></a>"
      ]
    },
    {
      "cell_type": "code",
      "source": [
        "a=range(3,8)\n",
        "print(list(a))"
      ],
      "metadata": {
        "colab": {
          "base_uri": "https://localhost:8080/"
        },
        "id": "iPZwUxt78mgj",
        "outputId": "0d6a1bb4-e902-4906-c02d-40233771c9c4"
      },
      "execution_count": 11,
      "outputs": [
        {
          "output_type": "stream",
          "name": "stdout",
          "text": [
            "[3, 4, 5, 6, 7]\n"
          ]
        }
      ]
    },
    {
      "cell_type": "code",
      "source": [
        "b=range(-2,4)\n",
        "print(list(b))"
      ],
      "metadata": {
        "colab": {
          "base_uri": "https://localhost:8080/"
        },
        "id": "UUdAxnR59pIM",
        "outputId": "cc8f3bca-1063-47a5-ef8d-2ac33de2d9a7"
      },
      "execution_count": 12,
      "outputs": [
        {
          "output_type": "stream",
          "name": "stdout",
          "text": [
            "[-2, -1, 0, 1, 2, 3]\n"
          ]
        }
      ]
    },
    {
      "cell_type": "code",
      "source": [
        "c=range(3,8,1)\n",
        "d=range(3,8,2)\n",
        "e=range(8,3,-1)\n",
        "print(list(c))\n",
        "print(list(d))\n",
        "print(list(e))"
      ],
      "metadata": {
        "colab": {
          "base_uri": "https://localhost:8080/"
        },
        "id": "lJvMbQZA_sCj",
        "outputId": "79aaa71b-b8b9-44b5-8dc7-8d083e1e4ee5"
      },
      "execution_count": 15,
      "outputs": [
        {
          "output_type": "stream",
          "name": "stdout",
          "text": [
            "[3, 4, 5, 6, 7]\n",
            "[3, 5, 7]\n",
            "[8, 7, 6, 5, 4]\n"
          ]
        }
      ]
    },
    {
      "cell_type": "code",
      "source": [
        "f=range(0,9,1)\n",
        "g=range(1,10,1)\n",
        "h=range(1,10,2)\n",
        "i=range(10,1,-2)\n",
        "print(list(f))\n",
        "print(list(g))\n",
        "print(list(h))\n",
        "print(list(i))"
      ],
      "metadata": {
        "colab": {
          "base_uri": "https://localhost:8080/"
        },
        "id": "O_VlRQXaA0VI",
        "outputId": "0482a9cd-c46f-496e-bf71-868c5a51962c"
      },
      "execution_count": 16,
      "outputs": [
        {
          "output_type": "stream",
          "name": "stdout",
          "text": [
            "[0, 1, 2, 3, 4, 5, 6, 7, 8]\n",
            "[1, 2, 3, 4, 5, 6, 7, 8, 9]\n",
            "[1, 3, 5, 7, 9]\n",
            "[10, 8, 6, 4, 2]\n"
          ]
        }
      ]
    },
    {
      "cell_type": "code",
      "source": [
        "for n in range(3):\n",
        "  print(n)"
      ],
      "metadata": {
        "colab": {
          "base_uri": "https://localhost:8080/"
        },
        "id": "yZxkJFITCgQ_",
        "outputId": "ce9f3406-f196-44a2-e998-9e8160a6057d"
      },
      "execution_count": 17,
      "outputs": [
        {
          "output_type": "stream",
          "name": "stdout",
          "text": [
            "0\n",
            "1\n",
            "2\n"
          ]
        }
      ]
    },
    {
      "cell_type": "code",
      "source": [
        "for n in range(10):\n",
        "  print(n,end=',')"
      ],
      "metadata": {
        "colab": {
          "base_uri": "https://localhost:8080/"
        },
        "id": "Wkpw6sOoDZ90",
        "outputId": "109cf4a8-b4f0-4468-8f73-78eeb3ca1363"
      },
      "execution_count": 18,
      "outputs": [
        {
          "output_type": "stream",
          "name": "stdout",
          "text": [
            "0,1,2,3,4,5,6,7,8,9,"
          ]
        }
      ]
    },
    {
      "cell_type": "code",
      "source": [
        "for n in range(0,11,2):\n",
        "  print(n,end=',')"
      ],
      "metadata": {
        "colab": {
          "base_uri": "https://localhost:8080/"
        },
        "id": "hYZKchHfD548",
        "outputId": "d1dd776d-7209-4623-a2fd-33002477a640"
      },
      "execution_count": 19,
      "outputs": [
        {
          "output_type": "stream",
          "name": "stdout",
          "text": [
            "0,2,4,6,8,10,"
          ]
        }
      ]
    },
    {
      "cell_type": "code",
      "source": [
        "n=int(input('請輸入一個正整數:'))\n",
        "for n in range(1,n+1):\n",
        "  print(n,end=',')\n"
      ],
      "metadata": {
        "colab": {
          "base_uri": "https://localhost:8080/"
        },
        "id": "ZXxmfqLaH5C0",
        "outputId": "b760f7fc-f31e-4226-f87c-5c463b0e24ab"
      },
      "execution_count": 23,
      "outputs": [
        {
          "output_type": "stream",
          "name": "stdout",
          "text": [
            "請輸入一個正整數:10\n",
            "1,2,3,4,5,6,7,8,9,10,"
          ]
        }
      ]
    },
    {
      "cell_type": "code",
      "source": [
        "sum=0\n",
        "for n in range(3):\n",
        "  sum=sum+n\n",
        "  print(sum)"
      ],
      "metadata": {
        "colab": {
          "base_uri": "https://localhost:8080/"
        },
        "id": "6XDt1xqOKRdt",
        "outputId": "f42757ff-a0c9-4cce-b02e-f0927dcc1f46"
      },
      "execution_count": 25,
      "outputs": [
        {
          "output_type": "stream",
          "name": "stdout",
          "text": [
            "0\n",
            "1\n",
            "3\n"
          ]
        }
      ]
    },
    {
      "cell_type": "code",
      "source": [
        "sum=0\n",
        "for n in range(10,1,-2):\n",
        "   sum=sum+n\n",
        "   print(sum)"
      ],
      "metadata": {
        "colab": {
          "base_uri": "https://localhost:8080/"
        },
        "id": "-h-TsP5GK4-n",
        "outputId": "4385effa-8b57-48d3-8546-9369b3cafef1"
      },
      "execution_count": 28,
      "outputs": [
        {
          "output_type": "stream",
          "name": "stdout",
          "text": [
            "10\n",
            "18\n",
            "24\n",
            "28\n",
            "30\n"
          ]
        }
      ]
    },
    {
      "cell_type": "code",
      "source": [
        "sum=0\n",
        "n=int(input('請輸入一個正整數:'))\n",
        "for n in range(1,n+1):\n",
        "  sum=sum+n\n",
        "print('1'+'到'+str(n)+'的整數合為'+str(sum))"
      ],
      "metadata": {
        "colab": {
          "base_uri": "https://localhost:8080/"
        },
        "id": "RIp6Hd9qM_ng",
        "outputId": "2de610e5-2f8a-4c5f-8b8c-ec970805263c"
      },
      "execution_count": 35,
      "outputs": [
        {
          "output_type": "stream",
          "name": "stdout",
          "text": [
            "請輸入一個正整數:10\n",
            "1到10的整數合為55\n"
          ]
        }
      ]
    },
    {
      "cell_type": "code",
      "source": [
        "sum=0\n",
        "n=int(input('請輸入一個正整數:'))\n",
        "for n in range(1,n+1):\n",
        "  sum=sum+n\n",
        "  print('1'+'到'+str(n)+'的整數合為'+str(sum))"
      ],
      "metadata": {
        "colab": {
          "base_uri": "https://localhost:8080/"
        },
        "id": "fYzilwsNOlJY",
        "outputId": "b96a757e-5af5-4b94-aef4-fb5029b39a03"
      },
      "execution_count": 36,
      "outputs": [
        {
          "output_type": "stream",
          "name": "stdout",
          "text": [
            "請輸入一個正整數:10\n",
            "1到1的整數合為1\n",
            "1到2的整數合為3\n",
            "1到3的整數合為6\n",
            "1到4的整數合為10\n",
            "1到5的整數合為15\n",
            "1到6的整數合為21\n",
            "1到7的整數合為28\n",
            "1到8的整數合為36\n",
            "1到9的整數合為45\n",
            "1到10的整數合為55\n"
          ]
        }
      ]
    }
  ]
}