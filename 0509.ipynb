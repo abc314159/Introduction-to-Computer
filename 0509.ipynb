{
  "nbformat": 4,
  "nbformat_minor": 0,
  "metadata": {
    "colab": {
      "name": "0509.ipynb",
      "provenance": [],
      "authorship_tag": "ABX9TyMHd25AZuk9b2ozE7c/pnKO",
      "include_colab_link": true
    },
    "kernelspec": {
      "name": "python3",
      "display_name": "Python 3"
    },
    "language_info": {
      "name": "python"
    }
  },
  "cells": [
    {
      "cell_type": "markdown",
      "metadata": {
        "id": "view-in-github",
        "colab_type": "text"
      },
      "source": [
        "<a href=\"https://colab.research.google.com/github/abc314159/Introduction-to-Computer/blob/main/0509.ipynb\" target=\"_parent\"><img src=\"https://colab.research.google.com/assets/colab-badge.svg\" alt=\"Open In Colab\"/></a>"
      ]
    },
    {
      "cell_type": "code",
      "execution_count": 1,
      "metadata": {
        "colab": {
          "base_uri": "https://localhost:8080/"
        },
        "id": "2f4O-zoe7ign",
        "outputId": "382b86b2-5e58-49bf-fde6-33692456754e"
      },
      "outputs": [
        {
          "output_type": "stream",
          "name": "stdout",
          "text": [
            "請輸入你的體溫:36\n",
            "體溫異常，請重新測量!\n"
          ]
        }
      ],
      "source": [
        "體溫=float(input('請輸入你的體溫:'))\n",
        "if    體溫>=37.5:\n",
        "     print('體溫過高!')\n",
        "elif   體溫>=37 and 體溫<=37.4:\n",
        "     print('體溫略高!')\n",
        "elif   體溫>=34 and 體溫<=36.9:\n",
        "     print('體溫正常!')     \n",
        "else:\n",
        "     print('體溫異常，請重新測量!')     "
      ]
    },
    {
      "cell_type": "code",
      "source": [
        "grade=int(input('請輸入成績:'))\n",
        "if   grade>=90:\n",
        "    print('A')\n",
        "elif  80<=grade<=89:\n",
        "    print('B')\n",
        "elif  70<=grade<=79:\n",
        "    print('C')\n",
        "elif  60<=grade<=69:\n",
        "    print('D')\n",
        "else:\n",
        "    print('E')"
      ],
      "metadata": {
        "colab": {
          "base_uri": "https://localhost:8080/"
        },
        "id": "Qq-02eJbAyh0",
        "outputId": "81428711-21d3-4c90-c3cb-4b6e84547d26"
      },
      "execution_count": 3,
      "outputs": [
        {
          "output_type": "stream",
          "name": "stdout",
          "text": [
            "請輸入成績:80\n",
            "B\n"
          ]
        }
      ]
    },
    {
      "cell_type": "code",
      "source": [
        "money = int(input('請輸入購物金額:'))\n",
        "if  money>=10000:\n",
        "    print('八折',money*0.8,end='元\\n')\n",
        "elif money>=5000:\n",
        "    print('八五折',money*0.85,end='元\\n')\n",
        "elif money>=3000:\n",
        "    print('九折',money*0.9,end='元\\n')\n",
        "elif money>=1000:\n",
        "    print('九五折',money*0.95,end='元\\n')\n",
        "else:\n",
        "    print('不打折',money,end='元\\n')      \n"
      ],
      "metadata": {
        "colab": {
          "base_uri": "https://localhost:8080/"
        },
        "id": "P8gk5GMtE25n",
        "outputId": "3762842b-377b-4f76-f7c5-208a632d6cf2"
      },
      "execution_count": 14,
      "outputs": [
        {
          "output_type": "stream",
          "name": "stdout",
          "text": [
            "請輸入購物金額:10000\n",
            "八折 8000.0元\n"
          ]
        }
      ]
    },
    {
      "cell_type": "code",
      "source": [
        "month=int(input('請輸入月份:'))\n",
        "if  3<=month<=5:\n",
        "    print(month,'月是春天!')\n",
        "elif 6<=month<=8:\n",
        "    print(month,'月是夏天!')\n",
        "elif 9<=month<=11:\n",
        "    print(month,'月是秋天!')\n",
        "elif 1<=month<=2or month==12:\n",
        "    print(month,'月是冬天!')\n",
        "else:\n",
        "    print('月份不在範圍內!')  "
      ],
      "metadata": {
        "colab": {
          "base_uri": "https://localhost:8080/"
        },
        "id": "rwjYifVzJf_k",
        "outputId": "f3275824-dfe9-4b8e-e81f-fa8d5edb04c5"
      },
      "execution_count": 19,
      "outputs": [
        {
          "output_type": "stream",
          "name": "stdout",
          "text": [
            "請輸入月份:12\n",
            "12 月是冬天!\n"
          ]
        }
      ]
    },
    {
      "cell_type": "code",
      "source": [
        "income=float(input('請輸入今年收入淨額:'))\n",
        "if  income>=2000000:\n",
        "    print('付稅金額:',income*0.3,end='元\\n')\n",
        "elif income>=1000000:\n",
        "    print('付稅金額:',income*0.21,end='元\\n')\n",
        "elif income>=600000:\n",
        "    print('付稅金額:',income*0.13,end='元\\n') \n",
        "elif income>=300000:\n",
        "    print('付稅金額:',income*0.06,end='元\\n')\n",
        "else:\n",
        "    print('付稅金額:',0,end='元\\n')              "
      ],
      "metadata": {
        "colab": {
          "base_uri": "https://localhost:8080/"
        },
        "id": "9xmixHQRNGs_",
        "outputId": "07da5ecf-5e66-48bc-8e91-f3fc4df7b904"
      },
      "execution_count": 21,
      "outputs": [
        {
          "output_type": "stream",
          "name": "stdout",
          "text": [
            "請輸入今年收入淨額:2000000\n",
            "付稅金額: 600000.0元\n"
          ]
        }
      ]
    }
  ]
}